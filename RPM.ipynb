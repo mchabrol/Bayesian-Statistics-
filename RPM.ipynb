{
 "cells": [
  {
   "cell_type": "code",
   "execution_count": 9,
   "metadata": {},
   "outputs": [],
   "source": [
    "import numpy as np \n",
    "import scipy #intégrer et générer les cdf et pdf de beta "
   ]
  },
  {
   "cell_type": "markdown",
   "metadata": {},
   "source": [
    "## Binomial bandit "
   ]
  },
  {
   "cell_type": "code",
   "execution_count": 2,
   "metadata": {},
   "outputs": [],
   "source": [
    "#générer les theta \n",
    "k = 3\n",
    "theta = np.random.uniform(0,1,k)"
   ]
  },
  {
   "cell_type": "code",
   "execution_count": 3,
   "metadata": {},
   "outputs": [],
   "source": [
    "def f(a,theta): \n",
    "    return np.random.binomial(1, theta[a])"
   ]
  },
  {
   "cell_type": "code",
   "execution_count": 4,
   "metadata": {},
   "outputs": [],
   "source": [
    "# case mu_a(theta)=theta_a (binomial bandit)\n",
    "def I(a,theta): \n",
    "    if theta[a]== max(theta): \n",
    "        return 1\n",
    "    return 0"
   ]
  },
  {
   "cell_type": "code",
   "execution_count": 12,
   "metadata": {},
   "outputs": [],
   "source": [
    "# Python code for computing Equation (11) by quadrature.\n",
    "def compute_probopt(y, n): \n",
    "    k = len(y)\n",
    "    ans = np.zeros(k)\n",
    "    for i in k: \n",
    "        def fct_to_integrate(x):\n",
    "            r = scipy.stats.beta.cdf(x, y[i]+1, n[i]-y[i+1])\n",
    "            for j in k: \n",
    "                if i!=j: \n",
    "                    r = r * scipy.stats.beta.cdf(x, y[j]+1, n[j]-y[j+1])\n",
    "            return r\n",
    "        ans[i] = scipy.integrate.quad(fct_to_integrate, 0, 1)\n",
    "    return ans                "
   ]
  },
  {
   "cell_type": "code",
   "execution_count": 13,
   "metadata": {},
   "outputs": [],
   "source": [
    "# Function to simulate posterior samples\n",
    "def sim_post(y, n, ndraws):\n",
    "    k = len(y)\n",
    "    ans = np.zeros((ndraws, k))\n",
    "    no = n - np.array(y)\n",
    "    for i in range(k):\n",
    "        ans[:, i] = beta.rvs(y[i] + 1, no[i] + 1, size=ndraws)\n",
    "    return ans\n",
    "\n",
    "# Function to calculate the probability of a winner\n",
    "def prob_winner(post):\n",
    "    k = post.shape[1]\n",
    "    w = np.bincount(np.argmax(post, axis=1), minlength=k)\n",
    "    return w / np.sum(w)\n",
    "\n",
    "# Function to compute the winning probabilities\n",
    "def compute_win_prob(y, n, ndraws):\n",
    "    post = sim_post(y, n, ndraws)\n",
    "    return prob_winner(post)"
   ]
  },
  {
   "cell_type": "code",
   "execution_count": null,
   "metadata": {},
   "outputs": [],
   "source": []
  }
 ],
 "metadata": {
  "kernelspec": {
   "display_name": ".venv",
   "language": "python",
   "name": "python3"
  },
  "language_info": {
   "codemirror_mode": {
    "name": "ipython",
    "version": 3
   },
   "file_extension": ".py",
   "mimetype": "text/x-python",
   "name": "python",
   "nbconvert_exporter": "python",
   "pygments_lexer": "ipython3",
   "version": "3.11.11"
  }
 },
 "nbformat": 4,
 "nbformat_minor": 2
}
